{
 "cells": [
  {
   "cell_type": "markdown",
   "metadata": {
    "id": "jSf7ap3jZX5n"
   },
   "source": [
    "#Import Libraries"
   ]
  },
  {
   "cell_type": "code",
   "execution_count": 53,
   "metadata": {
    "id": "29GIoAZoau5k"
   },
   "outputs": [],
   "source": [
    "import gdown\n",
    "import os\n",
    "import numpy as np\n",
    "import pandas as pd\n",
    "import matplotlib.pyplot as plt\n",
    "import seaborn as sns\n",
    "import folium\n",
    "import plotly.express as px\n",
    "from folium import plugins\n",
    "from folium.plugins import HeatMap\n",
    "from scipy.stats import pointbiserialr"
   ]
  },
  {
   "cell_type": "markdown",
   "metadata": {
    "id": "YHO65g1XbHj-"
   },
   "source": [
    "#Import & Load Dataset"
   ]
  },
  {
   "cell_type": "code",
   "execution_count": 54,
   "metadata": {
    "colab": {
     "base_uri": "https://localhost:8080/"
    },
    "id": "0Ra0kt5IbTRG",
    "outputId": "c09f81dd-497f-4cb3-83b1-ebe316fec120"
   },
   "outputs": [
    {
     "name": "stderr",
     "output_type": "stream",
     "text": [
      "<>:6: SyntaxWarning: invalid escape sequence '\\D'\n",
      "<>:6: SyntaxWarning: invalid escape sequence '\\D'\n",
      "C:\\Users\\habib\\AppData\\Local\\Temp\\ipykernel_17320\\1044927585.py:6: SyntaxWarning: invalid escape sequence '\\D'\n",
      "  path = '.\\Dataset'\n"
     ]
    },
    {
     "name": "stdout",
     "output_type": "stream",
     "text": [
      "Load Path: .\\Dataset\\calendar.csv into DataFrame: calendar..\n",
      "Load Path: .\\Dataset\\listings.csv into DataFrame: listings..\n",
      "Load Path: .\\Dataset\\reviews.csv into DataFrame: reviews..\n",
      "\n",
      "List Dataset\n",
      "dict_keys(['calendar', 'listings', 'reviews'])\n"
     ]
    }
   ],
   "source": [
    "machine = 'vsc'\n",
    "\n",
    "# Import Dataset\n",
    "# Path Dataset\n",
    "if machine == 'vsc':\n",
    "    path = '.\\Dataset'\n",
    "    if os.path.isfile(path):\n",
    "        dataset_link = 'https://drive.google.com/drive/folders/1wLAk6IsUNCWhGENAmAUnmXZxLiiv7m4q?usp=sharing'\n",
    "        gdown.download_folder(dataset_link, quiet=True, use_cookies=False)       \n",
    "else:\n",
    "    dataset_link = 'https://drive.google.com/drive/folders/1wLAk6IsUNCWhGENAmAUnmXZxLiiv7m4q?usp=sharing'\n",
    "    gdown.download_folder(dataset_link, quiet=True, use_cookies=False)    \n",
    "    path = '/content/Dataset/'\n",
    "\n",
    "\n",
    "# Get the data from Dataset Folder\n",
    "csv_files = [os.path.join(path, file) for file in os.listdir(path) if file.endswith('.csv')]\n",
    "df = {}\n",
    "\n",
    "# Load each CSV file into a DataFrame\n",
    "for file_name in csv_files:\n",
    "    base_name = os.path.basename(file_name).replace('.csv', '')\n",
    "    print(f\"Load Path: {file_name} into DataFrame: {base_name}..\")\n",
    "\n",
    "    # Load the file and store it\n",
    "    df[base_name] = pd.read_csv(file_name)\n",
    "\n",
    "print(\"\\nList Dataset\")\n",
    "print(df.keys())"
   ]
  },
  {
   "cell_type": "markdown",
   "metadata": {
    "id": "4vKyfikIdfeJ"
   },
   "source": [
    "##Dataset Reviews"
   ]
  },
  {
   "cell_type": "code",
   "execution_count": 55,
   "metadata": {
    "colab": {
     "base_uri": "https://localhost:8080/",
     "height": 206
    },
    "id": "G6fB-ksIcjIz",
    "outputId": "519f0b0a-423d-40cb-ae9b-b61aeba8f3ca"
   },
   "outputs": [
    {
     "data": {
      "text/html": [
       "<div>\n",
       "<style scoped>\n",
       "    .dataframe tbody tr th:only-of-type {\n",
       "        vertical-align: middle;\n",
       "    }\n",
       "\n",
       "    .dataframe tbody tr th {\n",
       "        vertical-align: top;\n",
       "    }\n",
       "\n",
       "    .dataframe thead th {\n",
       "        text-align: right;\n",
       "    }\n",
       "</style>\n",
       "<table border=\"1\" class=\"dataframe\">\n",
       "  <thead>\n",
       "    <tr style=\"text-align: right;\">\n",
       "      <th></th>\n",
       "      <th>listing_id</th>\n",
       "      <th>id</th>\n",
       "      <th>date</th>\n",
       "      <th>reviewer_id</th>\n",
       "      <th>reviewer_name</th>\n",
       "      <th>comments</th>\n",
       "    </tr>\n",
       "  </thead>\n",
       "  <tbody>\n",
       "    <tr>\n",
       "      <th>0</th>\n",
       "      <td>7202016</td>\n",
       "      <td>38917982</td>\n",
       "      <td>2015-07-19</td>\n",
       "      <td>28943674</td>\n",
       "      <td>Bianca</td>\n",
       "      <td>Cute and cozy place. Perfect location to every...</td>\n",
       "    </tr>\n",
       "    <tr>\n",
       "      <th>1</th>\n",
       "      <td>7202016</td>\n",
       "      <td>39087409</td>\n",
       "      <td>2015-07-20</td>\n",
       "      <td>32440555</td>\n",
       "      <td>Frank</td>\n",
       "      <td>Kelly has a great room in a very central locat...</td>\n",
       "    </tr>\n",
       "    <tr>\n",
       "      <th>2</th>\n",
       "      <td>7202016</td>\n",
       "      <td>39820030</td>\n",
       "      <td>2015-07-26</td>\n",
       "      <td>37722850</td>\n",
       "      <td>Ian</td>\n",
       "      <td>Very spacious apartment, and in a great neighb...</td>\n",
       "    </tr>\n",
       "    <tr>\n",
       "      <th>3</th>\n",
       "      <td>7202016</td>\n",
       "      <td>40813543</td>\n",
       "      <td>2015-08-02</td>\n",
       "      <td>33671805</td>\n",
       "      <td>George</td>\n",
       "      <td>Close to Seattle Center and all it has to offe...</td>\n",
       "    </tr>\n",
       "    <tr>\n",
       "      <th>4</th>\n",
       "      <td>7202016</td>\n",
       "      <td>41986501</td>\n",
       "      <td>2015-08-10</td>\n",
       "      <td>34959538</td>\n",
       "      <td>Ming</td>\n",
       "      <td>Kelly was a great host and very accommodating ...</td>\n",
       "    </tr>\n",
       "  </tbody>\n",
       "</table>\n",
       "</div>"
      ],
      "text/plain": [
       "   listing_id        id        date  reviewer_id reviewer_name  \\\n",
       "0     7202016  38917982  2015-07-19     28943674        Bianca   \n",
       "1     7202016  39087409  2015-07-20     32440555         Frank   \n",
       "2     7202016  39820030  2015-07-26     37722850           Ian   \n",
       "3     7202016  40813543  2015-08-02     33671805        George   \n",
       "4     7202016  41986501  2015-08-10     34959538          Ming   \n",
       "\n",
       "                                            comments  \n",
       "0  Cute and cozy place. Perfect location to every...  \n",
       "1  Kelly has a great room in a very central locat...  \n",
       "2  Very spacious apartment, and in a great neighb...  \n",
       "3  Close to Seattle Center and all it has to offe...  \n",
       "4  Kelly was a great host and very accommodating ...  "
      ]
     },
     "execution_count": 55,
     "metadata": {},
     "output_type": "execute_result"
    }
   ],
   "source": [
    "df['reviews'].head()"
   ]
  },
  {
   "cell_type": "markdown",
   "metadata": {
    "id": "Hsrs5NxddjQC"
   },
   "source": [
    "##Dataset Calendar"
   ]
  },
  {
   "cell_type": "code",
   "execution_count": 56,
   "metadata": {
    "colab": {
     "base_uri": "https://localhost:8080/",
     "height": 206
    },
    "id": "mXoDpK_kcD0A",
    "outputId": "23d17c29-18b2-423f-a29a-8a6030badd12"
   },
   "outputs": [
    {
     "data": {
      "text/html": [
       "<div>\n",
       "<style scoped>\n",
       "    .dataframe tbody tr th:only-of-type {\n",
       "        vertical-align: middle;\n",
       "    }\n",
       "\n",
       "    .dataframe tbody tr th {\n",
       "        vertical-align: top;\n",
       "    }\n",
       "\n",
       "    .dataframe thead th {\n",
       "        text-align: right;\n",
       "    }\n",
       "</style>\n",
       "<table border=\"1\" class=\"dataframe\">\n",
       "  <thead>\n",
       "    <tr style=\"text-align: right;\">\n",
       "      <th></th>\n",
       "      <th>listing_id</th>\n",
       "      <th>date</th>\n",
       "      <th>available</th>\n",
       "      <th>price</th>\n",
       "    </tr>\n",
       "  </thead>\n",
       "  <tbody>\n",
       "    <tr>\n",
       "      <th>0</th>\n",
       "      <td>241032</td>\n",
       "      <td>2016-01-04</td>\n",
       "      <td>t</td>\n",
       "      <td>$85.00</td>\n",
       "    </tr>\n",
       "    <tr>\n",
       "      <th>1</th>\n",
       "      <td>241032</td>\n",
       "      <td>2016-01-05</td>\n",
       "      <td>t</td>\n",
       "      <td>$85.00</td>\n",
       "    </tr>\n",
       "    <tr>\n",
       "      <th>2</th>\n",
       "      <td>241032</td>\n",
       "      <td>2016-01-06</td>\n",
       "      <td>f</td>\n",
       "      <td>NaN</td>\n",
       "    </tr>\n",
       "    <tr>\n",
       "      <th>3</th>\n",
       "      <td>241032</td>\n",
       "      <td>2016-01-07</td>\n",
       "      <td>f</td>\n",
       "      <td>NaN</td>\n",
       "    </tr>\n",
       "    <tr>\n",
       "      <th>4</th>\n",
       "      <td>241032</td>\n",
       "      <td>2016-01-08</td>\n",
       "      <td>f</td>\n",
       "      <td>NaN</td>\n",
       "    </tr>\n",
       "  </tbody>\n",
       "</table>\n",
       "</div>"
      ],
      "text/plain": [
       "   listing_id        date available   price\n",
       "0      241032  2016-01-04         t  $85.00\n",
       "1      241032  2016-01-05         t  $85.00\n",
       "2      241032  2016-01-06         f     NaN\n",
       "3      241032  2016-01-07         f     NaN\n",
       "4      241032  2016-01-08         f     NaN"
      ]
     },
     "execution_count": 56,
     "metadata": {},
     "output_type": "execute_result"
    }
   ],
   "source": [
    "df['calendar'].head()"
   ]
  },
  {
   "cell_type": "markdown",
   "metadata": {
    "id": "fm4H20rRdl0m"
   },
   "source": [
    "##Dataset Listings"
   ]
  },
  {
   "cell_type": "code",
   "execution_count": 57,
   "metadata": {
    "colab": {
     "base_uri": "https://localhost:8080/",
     "height": 620
    },
    "id": "2nem41Q5c-t3",
    "outputId": "8867e01a-e564-4a56-b986-b55c438eef82"
   },
   "outputs": [
    {
     "data": {
      "text/html": [
       "<div>\n",
       "<style scoped>\n",
       "    .dataframe tbody tr th:only-of-type {\n",
       "        vertical-align: middle;\n",
       "    }\n",
       "\n",
       "    .dataframe tbody tr th {\n",
       "        vertical-align: top;\n",
       "    }\n",
       "\n",
       "    .dataframe thead th {\n",
       "        text-align: right;\n",
       "    }\n",
       "</style>\n",
       "<table border=\"1\" class=\"dataframe\">\n",
       "  <thead>\n",
       "    <tr style=\"text-align: right;\">\n",
       "      <th></th>\n",
       "      <th>id</th>\n",
       "      <th>listing_url</th>\n",
       "      <th>scrape_id</th>\n",
       "      <th>last_scraped</th>\n",
       "      <th>name</th>\n",
       "      <th>summary</th>\n",
       "      <th>space</th>\n",
       "      <th>description</th>\n",
       "      <th>experiences_offered</th>\n",
       "      <th>neighborhood_overview</th>\n",
       "      <th>...</th>\n",
       "      <th>review_scores_value</th>\n",
       "      <th>requires_license</th>\n",
       "      <th>license</th>\n",
       "      <th>jurisdiction_names</th>\n",
       "      <th>instant_bookable</th>\n",
       "      <th>cancellation_policy</th>\n",
       "      <th>require_guest_profile_picture</th>\n",
       "      <th>require_guest_phone_verification</th>\n",
       "      <th>calculated_host_listings_count</th>\n",
       "      <th>reviews_per_month</th>\n",
       "    </tr>\n",
       "  </thead>\n",
       "  <tbody>\n",
       "    <tr>\n",
       "      <th>0</th>\n",
       "      <td>241032</td>\n",
       "      <td>https://www.airbnb.com/rooms/241032</td>\n",
       "      <td>20160104002432</td>\n",
       "      <td>2016-01-04</td>\n",
       "      <td>Stylish Queen Anne Apartment</td>\n",
       "      <td>NaN</td>\n",
       "      <td>Make your self at home in this charming one-be...</td>\n",
       "      <td>Make your self at home in this charming one-be...</td>\n",
       "      <td>none</td>\n",
       "      <td>NaN</td>\n",
       "      <td>...</td>\n",
       "      <td>10.0</td>\n",
       "      <td>f</td>\n",
       "      <td>NaN</td>\n",
       "      <td>WASHINGTON</td>\n",
       "      <td>f</td>\n",
       "      <td>moderate</td>\n",
       "      <td>f</td>\n",
       "      <td>f</td>\n",
       "      <td>2</td>\n",
       "      <td>4.07</td>\n",
       "    </tr>\n",
       "    <tr>\n",
       "      <th>1</th>\n",
       "      <td>953595</td>\n",
       "      <td>https://www.airbnb.com/rooms/953595</td>\n",
       "      <td>20160104002432</td>\n",
       "      <td>2016-01-04</td>\n",
       "      <td>Bright &amp; Airy Queen Anne Apartment</td>\n",
       "      <td>Chemically sensitive? We've removed the irrita...</td>\n",
       "      <td>Beautiful, hypoallergenic apartment in an extr...</td>\n",
       "      <td>Chemically sensitive? We've removed the irrita...</td>\n",
       "      <td>none</td>\n",
       "      <td>Queen Anne is a wonderful, truly functional vi...</td>\n",
       "      <td>...</td>\n",
       "      <td>10.0</td>\n",
       "      <td>f</td>\n",
       "      <td>NaN</td>\n",
       "      <td>WASHINGTON</td>\n",
       "      <td>f</td>\n",
       "      <td>strict</td>\n",
       "      <td>t</td>\n",
       "      <td>t</td>\n",
       "      <td>6</td>\n",
       "      <td>1.48</td>\n",
       "    </tr>\n",
       "    <tr>\n",
       "      <th>2</th>\n",
       "      <td>3308979</td>\n",
       "      <td>https://www.airbnb.com/rooms/3308979</td>\n",
       "      <td>20160104002432</td>\n",
       "      <td>2016-01-04</td>\n",
       "      <td>New Modern House-Amazing water view</td>\n",
       "      <td>New modern house built in 2013.  Spectacular s...</td>\n",
       "      <td>Our house is modern, light and fresh with a wa...</td>\n",
       "      <td>New modern house built in 2013.  Spectacular s...</td>\n",
       "      <td>none</td>\n",
       "      <td>Upper Queen Anne is a charming neighborhood fu...</td>\n",
       "      <td>...</td>\n",
       "      <td>10.0</td>\n",
       "      <td>f</td>\n",
       "      <td>NaN</td>\n",
       "      <td>WASHINGTON</td>\n",
       "      <td>f</td>\n",
       "      <td>strict</td>\n",
       "      <td>f</td>\n",
       "      <td>f</td>\n",
       "      <td>2</td>\n",
       "      <td>1.15</td>\n",
       "    </tr>\n",
       "    <tr>\n",
       "      <th>3</th>\n",
       "      <td>7421966</td>\n",
       "      <td>https://www.airbnb.com/rooms/7421966</td>\n",
       "      <td>20160104002432</td>\n",
       "      <td>2016-01-04</td>\n",
       "      <td>Queen Anne Chateau</td>\n",
       "      <td>A charming apartment that sits atop Queen Anne...</td>\n",
       "      <td>NaN</td>\n",
       "      <td>A charming apartment that sits atop Queen Anne...</td>\n",
       "      <td>none</td>\n",
       "      <td>NaN</td>\n",
       "      <td>...</td>\n",
       "      <td>NaN</td>\n",
       "      <td>f</td>\n",
       "      <td>NaN</td>\n",
       "      <td>WASHINGTON</td>\n",
       "      <td>f</td>\n",
       "      <td>flexible</td>\n",
       "      <td>f</td>\n",
       "      <td>f</td>\n",
       "      <td>1</td>\n",
       "      <td>NaN</td>\n",
       "    </tr>\n",
       "    <tr>\n",
       "      <th>4</th>\n",
       "      <td>278830</td>\n",
       "      <td>https://www.airbnb.com/rooms/278830</td>\n",
       "      <td>20160104002432</td>\n",
       "      <td>2016-01-04</td>\n",
       "      <td>Charming craftsman 3 bdm house</td>\n",
       "      <td>Cozy family craftman house in beautiful neighb...</td>\n",
       "      <td>Cozy family craftman house in beautiful neighb...</td>\n",
       "      <td>Cozy family craftman house in beautiful neighb...</td>\n",
       "      <td>none</td>\n",
       "      <td>We are in the beautiful neighborhood of Queen ...</td>\n",
       "      <td>...</td>\n",
       "      <td>9.0</td>\n",
       "      <td>f</td>\n",
       "      <td>NaN</td>\n",
       "      <td>WASHINGTON</td>\n",
       "      <td>f</td>\n",
       "      <td>strict</td>\n",
       "      <td>f</td>\n",
       "      <td>f</td>\n",
       "      <td>1</td>\n",
       "      <td>0.89</td>\n",
       "    </tr>\n",
       "  </tbody>\n",
       "</table>\n",
       "<p>5 rows × 92 columns</p>\n",
       "</div>"
      ],
      "text/plain": [
       "        id                           listing_url       scrape_id last_scraped  \\\n",
       "0   241032   https://www.airbnb.com/rooms/241032  20160104002432   2016-01-04   \n",
       "1   953595   https://www.airbnb.com/rooms/953595  20160104002432   2016-01-04   \n",
       "2  3308979  https://www.airbnb.com/rooms/3308979  20160104002432   2016-01-04   \n",
       "3  7421966  https://www.airbnb.com/rooms/7421966  20160104002432   2016-01-04   \n",
       "4   278830   https://www.airbnb.com/rooms/278830  20160104002432   2016-01-04   \n",
       "\n",
       "                                  name  \\\n",
       "0         Stylish Queen Anne Apartment   \n",
       "1   Bright & Airy Queen Anne Apartment   \n",
       "2  New Modern House-Amazing water view   \n",
       "3                   Queen Anne Chateau   \n",
       "4       Charming craftsman 3 bdm house   \n",
       "\n",
       "                                             summary  \\\n",
       "0                                                NaN   \n",
       "1  Chemically sensitive? We've removed the irrita...   \n",
       "2  New modern house built in 2013.  Spectacular s...   \n",
       "3  A charming apartment that sits atop Queen Anne...   \n",
       "4  Cozy family craftman house in beautiful neighb...   \n",
       "\n",
       "                                               space  \\\n",
       "0  Make your self at home in this charming one-be...   \n",
       "1  Beautiful, hypoallergenic apartment in an extr...   \n",
       "2  Our house is modern, light and fresh with a wa...   \n",
       "3                                                NaN   \n",
       "4  Cozy family craftman house in beautiful neighb...   \n",
       "\n",
       "                                         description experiences_offered  \\\n",
       "0  Make your self at home in this charming one-be...                none   \n",
       "1  Chemically sensitive? We've removed the irrita...                none   \n",
       "2  New modern house built in 2013.  Spectacular s...                none   \n",
       "3  A charming apartment that sits atop Queen Anne...                none   \n",
       "4  Cozy family craftman house in beautiful neighb...                none   \n",
       "\n",
       "                               neighborhood_overview  ... review_scores_value  \\\n",
       "0                                                NaN  ...                10.0   \n",
       "1  Queen Anne is a wonderful, truly functional vi...  ...                10.0   \n",
       "2  Upper Queen Anne is a charming neighborhood fu...  ...                10.0   \n",
       "3                                                NaN  ...                 NaN   \n",
       "4  We are in the beautiful neighborhood of Queen ...  ...                 9.0   \n",
       "\n",
       "  requires_license license jurisdiction_names instant_bookable  \\\n",
       "0                f     NaN         WASHINGTON                f   \n",
       "1                f     NaN         WASHINGTON                f   \n",
       "2                f     NaN         WASHINGTON                f   \n",
       "3                f     NaN         WASHINGTON                f   \n",
       "4                f     NaN         WASHINGTON                f   \n",
       "\n",
       "  cancellation_policy  require_guest_profile_picture  \\\n",
       "0            moderate                              f   \n",
       "1              strict                              t   \n",
       "2              strict                              f   \n",
       "3            flexible                              f   \n",
       "4              strict                              f   \n",
       "\n",
       "  require_guest_phone_verification calculated_host_listings_count  \\\n",
       "0                                f                              2   \n",
       "1                                t                              6   \n",
       "2                                f                              2   \n",
       "3                                f                              1   \n",
       "4                                f                              1   \n",
       "\n",
       "  reviews_per_month  \n",
       "0              4.07  \n",
       "1              1.48  \n",
       "2              1.15  \n",
       "3               NaN  \n",
       "4              0.89  \n",
       "\n",
       "[5 rows x 92 columns]"
      ]
     },
     "execution_count": 57,
     "metadata": {},
     "output_type": "execute_result"
    }
   ],
   "source": [
    "df['listings'].head()"
   ]
  },
  {
   "cell_type": "markdown",
   "metadata": {
    "id": "Vj2A9zXYja0K"
   },
   "source": [
    "#Descriptive Statistics"
   ]
  },
  {
   "cell_type": "markdown",
   "metadata": {
    "id": "5Iyt58XLjA2I"
   },
   "source": [
    "* Apakah ada kolom dengan tipe data kurang sesuai, atau nama kolom dan isinya\n",
    "kurang sesuai?\n",
    "* Apakah ada kolom yang memiliki nilai kosong? Jika ada, apa saja?\n",
    "* Apakah ada kolom yang memiliki nilai summary agak aneh?\n",
    "(min/mean/median/max/unique/top/freq)\n"
   ]
  },
  {
   "cell_type": "code",
   "execution_count": 58,
   "metadata": {
    "id": "HUbEKlFkjbTw"
   },
   "outputs": [],
   "source": [
    "if machine == 'vsc':\n",
    "    reviews = pd.read_csv('./Dataset/reviews.csv')\n",
    "    calendar = pd.read_csv('./Dataset/calendar.csv')\n",
    "    listings = pd.read_csv('./Dataset/listings.csv')\n",
    "else:\n",
    "    reviews = pd.read_csv('/content/Dataset/reviews.csv')\n",
    "    calendar = pd.read_csv('/content/Dataset/calendar.csv')\n",
    "    listings = pd.read_csv('/content/Dataset/listings.csv')"
   ]
  },
  {
   "cell_type": "markdown",
   "metadata": {
    "id": "G28hWq9JCe9H"
   },
   "source": [
    "##Dataset Reviews"
   ]
  },
  {
   "cell_type": "code",
   "execution_count": 59,
   "metadata": {
    "colab": {
     "base_uri": "https://localhost:8080/"
    },
    "id": "T3xEGskCErHW",
    "outputId": "615ef30b-24bd-4dbc-f6af-7ae53a169534"
   },
   "outputs": [
    {
     "name": "stdout",
     "output_type": "stream",
     "text": [
      "<class 'pandas.core.frame.DataFrame'>\n",
      "RangeIndex: 84849 entries, 0 to 84848\n",
      "Data columns (total 6 columns):\n",
      " #   Column         Non-Null Count  Dtype \n",
      "---  ------         --------------  ----- \n",
      " 0   listing_id     84849 non-null  int64 \n",
      " 1   id             84849 non-null  int64 \n",
      " 2   date           84849 non-null  object\n",
      " 3   reviewer_id    84849 non-null  int64 \n",
      " 4   reviewer_name  84849 non-null  object\n",
      " 5   comments       84831 non-null  object\n",
      "dtypes: int64(3), object(3)\n",
      "memory usage: 3.9+ MB\n"
     ]
    }
   ],
   "source": [
    "# Memeriksa informasi umum pada reviews\n",
    "reviews.info()"
   ]
  },
  {
   "cell_type": "markdown",
   "metadata": {
    "id": "vyF0g6bCFDUm"
   },
   "source": [
    "Kolom-kolom id sebaiknya diubah menjadi string (kategorikal) untuk mempermudah pengolahan dan menghindari masalah potensial terkait format yang tidak sesuai.\n"
   ]
  },
  {
   "cell_type": "code",
   "execution_count": 60,
   "metadata": {
    "id": "ifiIF3tCLlsU"
   },
   "outputs": [],
   "source": [
    "# Mengubah data type id menjadi object\n",
    "reviews['listing_id'] = reviews['listing_id'].astype(str)\n",
    "reviews['id'] = reviews['id'].astype(str)"
   ]
  },
  {
   "cell_type": "code",
   "execution_count": 61,
   "metadata": {
    "colab": {
     "base_uri": "https://localhost:8080/",
     "height": 272
    },
    "id": "jv_b03SVC78e",
    "outputId": "279c63e5-57cb-4aba-e3df-7b40bac06701"
   },
   "outputs": [
    {
     "data": {
      "text/plain": [
       "listing_id        0\n",
       "id                0\n",
       "date              0\n",
       "reviewer_id       0\n",
       "reviewer_name     0\n",
       "comments         18\n",
       "dtype: int64"
      ]
     },
     "execution_count": 61,
     "metadata": {},
     "output_type": "execute_result"
    }
   ],
   "source": [
    "# Memeriksa data kosong pada reviews\n",
    "reviews.isnull().sum()"
   ]
  },
  {
   "cell_type": "markdown",
   "metadata": {
    "id": "EO_8ZF5lFWTm"
   },
   "source": [
    "Terdapat 18 baris kosong pada kolom comments yang harus diolah."
   ]
  },
  {
   "cell_type": "code",
   "execution_count": 62,
   "metadata": {
    "colab": {
     "base_uri": "https://localhost:8080/"
    },
    "id": "hXfm8hAnC8oZ",
    "outputId": "cec08954-5460-416c-d968-27bcf8e920de"
   },
   "outputs": [
    {
     "data": {
      "text/plain": [
       "np.int64(0)"
      ]
     },
     "execution_count": 62,
     "metadata": {},
     "output_type": "execute_result"
    }
   ],
   "source": [
    "# Memeriksa data duplikat pada reviews\n",
    "reviews.duplicated().sum()"
   ]
  },
  {
   "cell_type": "markdown",
   "metadata": {
    "id": "fNI4CNsJFcou"
   },
   "source": [
    "Dataset reviews tidak memiliki nilai duplikat."
   ]
  },
  {
   "cell_type": "markdown",
   "metadata": {
    "id": "zxtRj1niChys"
   },
   "source": [
    "##Dataset Calendar"
   ]
  },
  {
   "cell_type": "code",
   "execution_count": 63,
   "metadata": {
    "colab": {
     "base_uri": "https://localhost:8080/"
    },
    "id": "UhjAbN63FhtS",
    "outputId": "5cc464b8-fd6e-4b90-f22e-d3a6921de4e6"
   },
   "outputs": [
    {
     "name": "stdout",
     "output_type": "stream",
     "text": [
      "<class 'pandas.core.frame.DataFrame'>\n",
      "RangeIndex: 1393570 entries, 0 to 1393569\n",
      "Data columns (total 4 columns):\n",
      " #   Column      Non-Null Count    Dtype \n",
      "---  ------      --------------    ----- \n",
      " 0   listing_id  1393570 non-null  int64 \n",
      " 1   date        1393570 non-null  object\n",
      " 2   available   1393570 non-null  object\n",
      " 3   price       934542 non-null   object\n",
      "dtypes: int64(1), object(3)\n",
      "memory usage: 42.5+ MB\n"
     ]
    }
   ],
   "source": [
    "# Memeriksa informasi umum pada calendar\n",
    "calendar.info()"
   ]
  },
  {
   "cell_type": "markdown",
   "metadata": {
    "id": "iIViRaFBGT5P"
   },
   "source": [
    "Kolom id sebaiknya diubah menjadi string (kategorikal) untuk mempermudah pengolahan dan menghindari masalah potensial terkait format yang tidak sesuai."
   ]
  },
  {
   "cell_type": "code",
   "execution_count": 64,
   "metadata": {
    "id": "S9ighpuvMVtp"
   },
   "outputs": [],
   "source": [
    "# Mengubah data type id menjadi object\n",
    "calendar['listing_id'] = calendar['listing_id'].astype(str)"
   ]
  },
  {
   "cell_type": "code",
   "execution_count": 65,
   "metadata": {
    "colab": {
     "base_uri": "https://localhost:8080/",
     "height": 209
    },
    "id": "pO07kSpUDOD9",
    "outputId": "06c564bb-4a93-41f3-89eb-bf33c3e65178"
   },
   "outputs": [
    {
     "data": {
      "text/plain": [
       "listing_id         0\n",
       "date               0\n",
       "available          0\n",
       "price         459028\n",
       "dtype: int64"
      ]
     },
     "execution_count": 65,
     "metadata": {},
     "output_type": "execute_result"
    }
   ],
   "source": [
    "# Memeriksa data kosong pada calendar\n",
    "calendar.isnull().sum()"
   ]
  },
  {
   "cell_type": "markdown",
   "metadata": {
    "id": "rSUxBV9jGXMT"
   },
   "source": [
    "Terdapat banyak sekali baris kosong pada kolom price, sebaiknya menghapus kolom price karena tidak efisien."
   ]
  },
  {
   "cell_type": "code",
   "execution_count": 66,
   "metadata": {
    "colab": {
     "base_uri": "https://localhost:8080/"
    },
    "id": "Hv0twgTwDRC_",
    "outputId": "04d50301-0724-456a-e1c1-c24c4c5955a9"
   },
   "outputs": [
    {
     "data": {
      "text/plain": [
       "np.int64(0)"
      ]
     },
     "execution_count": 66,
     "metadata": {},
     "output_type": "execute_result"
    }
   ],
   "source": [
    "# Memeriksa data duplikat pada calendar\n",
    "calendar.duplicated().sum()"
   ]
  },
  {
   "cell_type": "markdown",
   "metadata": {
    "id": "Najgu-AoGpZa"
   },
   "source": [
    "Dataset calendar tidak memiliki nilai duplikat."
   ]
  },
  {
   "cell_type": "markdown",
   "metadata": {
    "id": "Ic_4_eOICj2W"
   },
   "source": [
    "##Dataset Listings"
   ]
  },
  {
   "cell_type": "code",
   "execution_count": 67,
   "metadata": {
    "colab": {
     "base_uri": "https://localhost:8080/"
    },
    "id": "6t7rW_MMG66b",
    "outputId": "6c8cdef4-53dc-4167-b288-d56d7a273184"
   },
   "outputs": [
    {
     "name": "stdout",
     "output_type": "stream",
     "text": [
      "<class 'pandas.core.frame.DataFrame'>\n",
      "RangeIndex: 3818 entries, 0 to 3817\n",
      "Data columns (total 92 columns):\n",
      " #   Column                            Non-Null Count  Dtype  \n",
      "---  ------                            --------------  -----  \n",
      " 0   id                                3818 non-null   int64  \n",
      " 1   listing_url                       3818 non-null   object \n",
      " 2   scrape_id                         3818 non-null   int64  \n",
      " 3   last_scraped                      3818 non-null   object \n",
      " 4   name                              3818 non-null   object \n",
      " 5   summary                           3641 non-null   object \n",
      " 6   space                             3249 non-null   object \n",
      " 7   description                       3818 non-null   object \n",
      " 8   experiences_offered               3818 non-null   object \n",
      " 9   neighborhood_overview             2786 non-null   object \n",
      " 10  notes                             2212 non-null   object \n",
      " 11  transit                           2884 non-null   object \n",
      " 12  thumbnail_url                     3498 non-null   object \n",
      " 13  medium_url                        3498 non-null   object \n",
      " 14  picture_url                       3818 non-null   object \n",
      " 15  xl_picture_url                    3498 non-null   object \n",
      " 16  host_id                           3818 non-null   int64  \n",
      " 17  host_url                          3818 non-null   object \n",
      " 18  host_name                         3816 non-null   object \n",
      " 19  host_since                        3816 non-null   object \n",
      " 20  host_location                     3810 non-null   object \n",
      " 21  host_about                        2959 non-null   object \n",
      " 22  host_response_time                3295 non-null   object \n",
      " 23  host_response_rate                3295 non-null   object \n",
      " 24  host_acceptance_rate              3045 non-null   object \n",
      " 25  host_is_superhost                 3816 non-null   object \n",
      " 26  host_thumbnail_url                3816 non-null   object \n",
      " 27  host_picture_url                  3816 non-null   object \n",
      " 28  host_neighbourhood                3518 non-null   object \n",
      " 29  host_listings_count               3816 non-null   float64\n",
      " 30  host_total_listings_count         3816 non-null   float64\n",
      " 31  host_verifications                3816 non-null   object \n",
      " 32  host_has_profile_pic              3816 non-null   object \n",
      " 33  host_identity_verified            3816 non-null   object \n",
      " 34  street                            3818 non-null   object \n",
      " 35  neighbourhood                     3402 non-null   object \n",
      " 36  neighbourhood_cleansed            3818 non-null   object \n",
      " 37  neighbourhood_group_cleansed      3818 non-null   object \n",
      " 38  city                              3818 non-null   object \n",
      " 39  state                             3818 non-null   object \n",
      " 40  zipcode                           3811 non-null   object \n",
      " 41  market                            3818 non-null   object \n",
      " 42  smart_location                    3818 non-null   object \n",
      " 43  country_code                      3818 non-null   object \n",
      " 44  country                           3818 non-null   object \n",
      " 45  latitude                          3818 non-null   float64\n",
      " 46  longitude                         3818 non-null   float64\n",
      " 47  is_location_exact                 3818 non-null   object \n",
      " 48  property_type                     3817 non-null   object \n",
      " 49  room_type                         3818 non-null   object \n",
      " 50  accommodates                      3818 non-null   int64  \n",
      " 51  bathrooms                         3802 non-null   float64\n",
      " 52  bedrooms                          3812 non-null   float64\n",
      " 53  beds                              3817 non-null   float64\n",
      " 54  bed_type                          3818 non-null   object \n",
      " 55  amenities                         3818 non-null   object \n",
      " 56  square_feet                       97 non-null     float64\n",
      " 57  price                             3818 non-null   object \n",
      " 58  weekly_price                      2009 non-null   object \n",
      " 59  monthly_price                     1517 non-null   object \n",
      " 60  security_deposit                  1866 non-null   object \n",
      " 61  cleaning_fee                      2788 non-null   object \n",
      " 62  guests_included                   3818 non-null   int64  \n",
      " 63  extra_people                      3818 non-null   object \n",
      " 64  minimum_nights                    3818 non-null   int64  \n",
      " 65  maximum_nights                    3818 non-null   int64  \n",
      " 66  calendar_updated                  3818 non-null   object \n",
      " 67  has_availability                  3818 non-null   object \n",
      " 68  availability_30                   3818 non-null   int64  \n",
      " 69  availability_60                   3818 non-null   int64  \n",
      " 70  availability_90                   3818 non-null   int64  \n",
      " 71  availability_365                  3818 non-null   int64  \n",
      " 72  calendar_last_scraped             3818 non-null   object \n",
      " 73  number_of_reviews                 3818 non-null   int64  \n",
      " 74  first_review                      3191 non-null   object \n",
      " 75  last_review                       3191 non-null   object \n",
      " 76  review_scores_rating              3171 non-null   float64\n",
      " 77  review_scores_accuracy            3160 non-null   float64\n",
      " 78  review_scores_cleanliness         3165 non-null   float64\n",
      " 79  review_scores_checkin             3160 non-null   float64\n",
      " 80  review_scores_communication       3167 non-null   float64\n",
      " 81  review_scores_location            3163 non-null   float64\n",
      " 82  review_scores_value               3162 non-null   float64\n",
      " 83  requires_license                  3818 non-null   object \n",
      " 84  license                           0 non-null      float64\n",
      " 85  jurisdiction_names                3818 non-null   object \n",
      " 86  instant_bookable                  3818 non-null   object \n",
      " 87  cancellation_policy               3818 non-null   object \n",
      " 88  require_guest_profile_picture     3818 non-null   object \n",
      " 89  require_guest_phone_verification  3818 non-null   object \n",
      " 90  calculated_host_listings_count    3818 non-null   int64  \n",
      " 91  reviews_per_month                 3191 non-null   float64\n",
      "dtypes: float64(17), int64(13), object(62)\n",
      "memory usage: 2.7+ MB\n"
     ]
    }
   ],
   "source": [
    "# Memeriksa informasi umum pada listings\n",
    "listings.info()"
   ]
  },
  {
   "cell_type": "markdown",
   "metadata": {
    "id": "j0oh--leHEyn"
   },
   "source": [
    "* Mengubah nama id menjadi listing_id agar bisa menggabukan dataset dengan reviews dan calendar\n",
    "* Membuat listing baru yang hanya berisi kolom penting untuk dianalisis\n",
    "* Mengubah kolom-kolom id menjadi string untuk mempermudah pengolahan\n",
    "* Mengubah beberapa data type kolom object menjadi numerik\n",
    "\n"
   ]
  },
  {
   "cell_type": "code",
   "execution_count": 68,
   "metadata": {
    "id": "CDbR63bHMiDa"
   },
   "outputs": [],
   "source": [
    "# Mengubah nama kolom id\n",
    "listings = listings.rename(columns={'id':'listing_id'})"
   ]
  },
  {
   "cell_type": "code",
   "execution_count": 69,
   "metadata": {
    "id": "n13DbUL7NCc9"
   },
   "outputs": [],
   "source": [
    "# Mengubah data type id menjadi object\n",
    "listings['listing_id'] = listings['listing_id'].astype(str)\n",
    "listings['scrape_id'] = listings['scrape_id'].astype(str)"
   ]
  },
  {
   "cell_type": "code",
   "execution_count": 70,
   "metadata": {
    "colab": {
     "base_uri": "https://localhost:8080/",
     "height": 1000
    },
    "id": "UtHiBnYPDaQ5",
    "outputId": "7dd8ed33-0fa1-4c7e-ed49-5368386c2c49"
   },
   "outputs": [
    {
     "data": {
      "text/plain": [
       "summary                         177\n",
       "space                           569\n",
       "neighborhood_overview          1032\n",
       "notes                          1606\n",
       "transit                         934\n",
       "thumbnail_url                   320\n",
       "medium_url                      320\n",
       "xl_picture_url                  320\n",
       "host_name                         2\n",
       "host_since                        2\n",
       "host_location                     8\n",
       "host_about                      859\n",
       "host_response_time              523\n",
       "host_response_rate              523\n",
       "host_acceptance_rate            773\n",
       "host_is_superhost                 2\n",
       "host_thumbnail_url                2\n",
       "host_picture_url                  2\n",
       "host_neighbourhood              300\n",
       "host_listings_count               2\n",
       "host_total_listings_count         2\n",
       "host_verifications                2\n",
       "host_has_profile_pic              2\n",
       "host_identity_verified            2\n",
       "neighbourhood                   416\n",
       "zipcode                           7\n",
       "property_type                     1\n",
       "bathrooms                        16\n",
       "bedrooms                          6\n",
       "beds                              1\n",
       "square_feet                    3721\n",
       "weekly_price                   1809\n",
       "monthly_price                  2301\n",
       "security_deposit               1952\n",
       "cleaning_fee                   1030\n",
       "first_review                    627\n",
       "last_review                     627\n",
       "review_scores_rating            647\n",
       "review_scores_accuracy          658\n",
       "review_scores_cleanliness       653\n",
       "review_scores_checkin           658\n",
       "review_scores_communication     651\n",
       "review_scores_location          655\n",
       "review_scores_value             656\n",
       "license                        3818\n",
       "reviews_per_month               627\n",
       "dtype: int64"
      ]
     },
     "execution_count": 70,
     "metadata": {},
     "output_type": "execute_result"
    }
   ],
   "source": [
    "# Memeriksa data kosong pada listings\n",
    "listings.isnull().sum()[listings.isnull().sum() != 0]"
   ]
  },
  {
   "cell_type": "markdown",
   "metadata": {
    "id": "m_OhMrd-IokL"
   },
   "source": [
    "* Mengisi kolom kosong numerik dengan median atau mean tergantung analisis outlier\n",
    "* Mengisi kolom kosong kategorikal dengan data terbanyak atau unknown\n",
    "* Menghapus license dan square_feet karena terlalu banyak baris kosong"
   ]
  },
  {
   "cell_type": "code",
   "execution_count": 71,
   "metadata": {
    "colab": {
     "base_uri": "https://localhost:8080/"
    },
    "id": "jQEvBiSUDhHm",
    "outputId": "49bc6b69-1114-48be-c40b-157d4aff8891"
   },
   "outputs": [
    {
     "data": {
      "text/plain": [
       "np.int64(0)"
      ]
     },
     "execution_count": 71,
     "metadata": {},
     "output_type": "execute_result"
    }
   ],
   "source": [
    "# Memeriksa data duplikat pada listings\n",
    "listings.duplicated().sum()"
   ]
  },
  {
   "cell_type": "code",
   "execution_count": 72,
   "metadata": {
    "colab": {
     "base_uri": "https://localhost:8080/",
     "height": 349
    },
    "id": "2UZQkhhgNqqI",
    "outputId": "f8bf4343-30e2-4b42-a350-a23b27a58302"
   },
   "outputs": [
    {
     "data": {
      "text/html": [
       "<div>\n",
       "<style scoped>\n",
       "    .dataframe tbody tr th:only-of-type {\n",
       "        vertical-align: middle;\n",
       "    }\n",
       "\n",
       "    .dataframe tbody tr th {\n",
       "        vertical-align: top;\n",
       "    }\n",
       "\n",
       "    .dataframe thead th {\n",
       "        text-align: right;\n",
       "    }\n",
       "</style>\n",
       "<table border=\"1\" class=\"dataframe\">\n",
       "  <thead>\n",
       "    <tr style=\"text-align: right;\">\n",
       "      <th></th>\n",
       "      <th>host_id</th>\n",
       "      <th>host_listings_count</th>\n",
       "      <th>host_total_listings_count</th>\n",
       "      <th>latitude</th>\n",
       "      <th>longitude</th>\n",
       "      <th>accommodates</th>\n",
       "      <th>bathrooms</th>\n",
       "      <th>bedrooms</th>\n",
       "      <th>beds</th>\n",
       "      <th>square_feet</th>\n",
       "      <th>...</th>\n",
       "      <th>review_scores_rating</th>\n",
       "      <th>review_scores_accuracy</th>\n",
       "      <th>review_scores_cleanliness</th>\n",
       "      <th>review_scores_checkin</th>\n",
       "      <th>review_scores_communication</th>\n",
       "      <th>review_scores_location</th>\n",
       "      <th>review_scores_value</th>\n",
       "      <th>license</th>\n",
       "      <th>calculated_host_listings_count</th>\n",
       "      <th>reviews_per_month</th>\n",
       "    </tr>\n",
       "  </thead>\n",
       "  <tbody>\n",
       "    <tr>\n",
       "      <th>count</th>\n",
       "      <td>3.818000e+03</td>\n",
       "      <td>3816.000000</td>\n",
       "      <td>3816.000000</td>\n",
       "      <td>3818.000000</td>\n",
       "      <td>3818.000000</td>\n",
       "      <td>3818.000000</td>\n",
       "      <td>3802.000000</td>\n",
       "      <td>3812.000000</td>\n",
       "      <td>3817.000000</td>\n",
       "      <td>97.000000</td>\n",
       "      <td>...</td>\n",
       "      <td>3171.000000</td>\n",
       "      <td>3160.000000</td>\n",
       "      <td>3165.000000</td>\n",
       "      <td>3160.000000</td>\n",
       "      <td>3167.000000</td>\n",
       "      <td>3163.000000</td>\n",
       "      <td>3162.000000</td>\n",
       "      <td>0.0</td>\n",
       "      <td>3818.000000</td>\n",
       "      <td>3191.000000</td>\n",
       "    </tr>\n",
       "    <tr>\n",
       "      <th>mean</th>\n",
       "      <td>1.578556e+07</td>\n",
       "      <td>7.157757</td>\n",
       "      <td>7.157757</td>\n",
       "      <td>47.628961</td>\n",
       "      <td>-122.333103</td>\n",
       "      <td>3.349398</td>\n",
       "      <td>1.259469</td>\n",
       "      <td>1.307712</td>\n",
       "      <td>1.735394</td>\n",
       "      <td>854.618557</td>\n",
       "      <td>...</td>\n",
       "      <td>94.539262</td>\n",
       "      <td>9.636392</td>\n",
       "      <td>9.556398</td>\n",
       "      <td>9.786709</td>\n",
       "      <td>9.809599</td>\n",
       "      <td>9.608916</td>\n",
       "      <td>9.452245</td>\n",
       "      <td>NaN</td>\n",
       "      <td>2.946307</td>\n",
       "      <td>2.078919</td>\n",
       "    </tr>\n",
       "    <tr>\n",
       "      <th>std</th>\n",
       "      <td>1.458382e+07</td>\n",
       "      <td>28.628149</td>\n",
       "      <td>28.628149</td>\n",
       "      <td>0.043052</td>\n",
       "      <td>0.031745</td>\n",
       "      <td>1.977599</td>\n",
       "      <td>0.590369</td>\n",
       "      <td>0.883395</td>\n",
       "      <td>1.139480</td>\n",
       "      <td>671.404893</td>\n",
       "      <td>...</td>\n",
       "      <td>6.606083</td>\n",
       "      <td>0.698031</td>\n",
       "      <td>0.797274</td>\n",
       "      <td>0.595499</td>\n",
       "      <td>0.568211</td>\n",
       "      <td>0.629053</td>\n",
       "      <td>0.750259</td>\n",
       "      <td>NaN</td>\n",
       "      <td>5.893029</td>\n",
       "      <td>1.822348</td>\n",
       "    </tr>\n",
       "    <tr>\n",
       "      <th>min</th>\n",
       "      <td>4.193000e+03</td>\n",
       "      <td>1.000000</td>\n",
       "      <td>1.000000</td>\n",
       "      <td>47.505088</td>\n",
       "      <td>-122.417219</td>\n",
       "      <td>1.000000</td>\n",
       "      <td>0.000000</td>\n",
       "      <td>0.000000</td>\n",
       "      <td>1.000000</td>\n",
       "      <td>0.000000</td>\n",
       "      <td>...</td>\n",
       "      <td>20.000000</td>\n",
       "      <td>2.000000</td>\n",
       "      <td>3.000000</td>\n",
       "      <td>2.000000</td>\n",
       "      <td>2.000000</td>\n",
       "      <td>4.000000</td>\n",
       "      <td>2.000000</td>\n",
       "      <td>NaN</td>\n",
       "      <td>1.000000</td>\n",
       "      <td>0.020000</td>\n",
       "    </tr>\n",
       "    <tr>\n",
       "      <th>25%</th>\n",
       "      <td>3.275204e+06</td>\n",
       "      <td>1.000000</td>\n",
       "      <td>1.000000</td>\n",
       "      <td>47.609418</td>\n",
       "      <td>-122.354320</td>\n",
       "      <td>2.000000</td>\n",
       "      <td>1.000000</td>\n",
       "      <td>1.000000</td>\n",
       "      <td>1.000000</td>\n",
       "      <td>420.000000</td>\n",
       "      <td>...</td>\n",
       "      <td>93.000000</td>\n",
       "      <td>9.000000</td>\n",
       "      <td>9.000000</td>\n",
       "      <td>10.000000</td>\n",
       "      <td>10.000000</td>\n",
       "      <td>9.000000</td>\n",
       "      <td>9.000000</td>\n",
       "      <td>NaN</td>\n",
       "      <td>1.000000</td>\n",
       "      <td>0.695000</td>\n",
       "    </tr>\n",
       "    <tr>\n",
       "      <th>50%</th>\n",
       "      <td>1.055814e+07</td>\n",
       "      <td>1.000000</td>\n",
       "      <td>1.000000</td>\n",
       "      <td>47.623601</td>\n",
       "      <td>-122.328874</td>\n",
       "      <td>3.000000</td>\n",
       "      <td>1.000000</td>\n",
       "      <td>1.000000</td>\n",
       "      <td>1.000000</td>\n",
       "      <td>750.000000</td>\n",
       "      <td>...</td>\n",
       "      <td>96.000000</td>\n",
       "      <td>10.000000</td>\n",
       "      <td>10.000000</td>\n",
       "      <td>10.000000</td>\n",
       "      <td>10.000000</td>\n",
       "      <td>10.000000</td>\n",
       "      <td>10.000000</td>\n",
       "      <td>NaN</td>\n",
       "      <td>1.000000</td>\n",
       "      <td>1.540000</td>\n",
       "    </tr>\n",
       "    <tr>\n",
       "      <th>75%</th>\n",
       "      <td>2.590309e+07</td>\n",
       "      <td>3.000000</td>\n",
       "      <td>3.000000</td>\n",
       "      <td>47.662694</td>\n",
       "      <td>-122.310800</td>\n",
       "      <td>4.000000</td>\n",
       "      <td>1.000000</td>\n",
       "      <td>2.000000</td>\n",
       "      <td>2.000000</td>\n",
       "      <td>1200.000000</td>\n",
       "      <td>...</td>\n",
       "      <td>99.000000</td>\n",
       "      <td>10.000000</td>\n",
       "      <td>10.000000</td>\n",
       "      <td>10.000000</td>\n",
       "      <td>10.000000</td>\n",
       "      <td>10.000000</td>\n",
       "      <td>10.000000</td>\n",
       "      <td>NaN</td>\n",
       "      <td>2.000000</td>\n",
       "      <td>3.000000</td>\n",
       "    </tr>\n",
       "    <tr>\n",
       "      <th>max</th>\n",
       "      <td>5.320861e+07</td>\n",
       "      <td>502.000000</td>\n",
       "      <td>502.000000</td>\n",
       "      <td>47.733358</td>\n",
       "      <td>-122.240607</td>\n",
       "      <td>16.000000</td>\n",
       "      <td>8.000000</td>\n",
       "      <td>7.000000</td>\n",
       "      <td>15.000000</td>\n",
       "      <td>3000.000000</td>\n",
       "      <td>...</td>\n",
       "      <td>100.000000</td>\n",
       "      <td>10.000000</td>\n",
       "      <td>10.000000</td>\n",
       "      <td>10.000000</td>\n",
       "      <td>10.000000</td>\n",
       "      <td>10.000000</td>\n",
       "      <td>10.000000</td>\n",
       "      <td>NaN</td>\n",
       "      <td>37.000000</td>\n",
       "      <td>12.150000</td>\n",
       "    </tr>\n",
       "  </tbody>\n",
       "</table>\n",
       "<p>8 rows × 28 columns</p>\n",
       "</div>"
      ],
      "text/plain": [
       "            host_id  host_listings_count  host_total_listings_count  \\\n",
       "count  3.818000e+03          3816.000000                3816.000000   \n",
       "mean   1.578556e+07             7.157757                   7.157757   \n",
       "std    1.458382e+07            28.628149                  28.628149   \n",
       "min    4.193000e+03             1.000000                   1.000000   \n",
       "25%    3.275204e+06             1.000000                   1.000000   \n",
       "50%    1.055814e+07             1.000000                   1.000000   \n",
       "75%    2.590309e+07             3.000000                   3.000000   \n",
       "max    5.320861e+07           502.000000                 502.000000   \n",
       "\n",
       "          latitude    longitude  accommodates    bathrooms     bedrooms  \\\n",
       "count  3818.000000  3818.000000   3818.000000  3802.000000  3812.000000   \n",
       "mean     47.628961  -122.333103      3.349398     1.259469     1.307712   \n",
       "std       0.043052     0.031745      1.977599     0.590369     0.883395   \n",
       "min      47.505088  -122.417219      1.000000     0.000000     0.000000   \n",
       "25%      47.609418  -122.354320      2.000000     1.000000     1.000000   \n",
       "50%      47.623601  -122.328874      3.000000     1.000000     1.000000   \n",
       "75%      47.662694  -122.310800      4.000000     1.000000     2.000000   \n",
       "max      47.733358  -122.240607     16.000000     8.000000     7.000000   \n",
       "\n",
       "              beds  square_feet  ...  review_scores_rating  \\\n",
       "count  3817.000000    97.000000  ...           3171.000000   \n",
       "mean      1.735394   854.618557  ...             94.539262   \n",
       "std       1.139480   671.404893  ...              6.606083   \n",
       "min       1.000000     0.000000  ...             20.000000   \n",
       "25%       1.000000   420.000000  ...             93.000000   \n",
       "50%       1.000000   750.000000  ...             96.000000   \n",
       "75%       2.000000  1200.000000  ...             99.000000   \n",
       "max      15.000000  3000.000000  ...            100.000000   \n",
       "\n",
       "       review_scores_accuracy  review_scores_cleanliness  \\\n",
       "count             3160.000000                3165.000000   \n",
       "mean                 9.636392                   9.556398   \n",
       "std                  0.698031                   0.797274   \n",
       "min                  2.000000                   3.000000   \n",
       "25%                  9.000000                   9.000000   \n",
       "50%                 10.000000                  10.000000   \n",
       "75%                 10.000000                  10.000000   \n",
       "max                 10.000000                  10.000000   \n",
       "\n",
       "       review_scores_checkin  review_scores_communication  \\\n",
       "count            3160.000000                  3167.000000   \n",
       "mean                9.786709                     9.809599   \n",
       "std                 0.595499                     0.568211   \n",
       "min                 2.000000                     2.000000   \n",
       "25%                10.000000                    10.000000   \n",
       "50%                10.000000                    10.000000   \n",
       "75%                10.000000                    10.000000   \n",
       "max                10.000000                    10.000000   \n",
       "\n",
       "       review_scores_location  review_scores_value  license  \\\n",
       "count             3163.000000          3162.000000      0.0   \n",
       "mean                 9.608916             9.452245      NaN   \n",
       "std                  0.629053             0.750259      NaN   \n",
       "min                  4.000000             2.000000      NaN   \n",
       "25%                  9.000000             9.000000      NaN   \n",
       "50%                 10.000000            10.000000      NaN   \n",
       "75%                 10.000000            10.000000      NaN   \n",
       "max                 10.000000            10.000000      NaN   \n",
       "\n",
       "       calculated_host_listings_count  reviews_per_month  \n",
       "count                     3818.000000        3191.000000  \n",
       "mean                         2.946307           2.078919  \n",
       "std                          5.893029           1.822348  \n",
       "min                          1.000000           0.020000  \n",
       "25%                          1.000000           0.695000  \n",
       "50%                          1.000000           1.540000  \n",
       "75%                          2.000000           3.000000  \n",
       "max                         37.000000          12.150000  \n",
       "\n",
       "[8 rows x 28 columns]"
      ]
     },
     "execution_count": 72,
     "metadata": {},
     "output_type": "execute_result"
    }
   ],
   "source": [
    "listings.describe()"
   ]
  },
  {
   "cell_type": "markdown",
   "metadata": {
    "id": "8ItrHK8GI9s4"
   },
   "source": [
    "Dataset listings tidak memiliki nilai duplikat"
   ]
  },
  {
   "cell_type": "markdown",
   "metadata": {
    "id": "0zUHvYn2EfSv"
   },
   "source": [
    "#Univariate Analysis"
   ]
  },
  {
   "cell_type": "markdown",
   "metadata": {
    "id": "V3Vf1w0uVS3L"
   },
   "source": [
    "Gunakan visualisasi untuk melihat distribusi masing-masing kolom (feature maupun\n",
    "target). Tuliskan hasil observasinya, misalnya jika ada suatu kolom yang distribusinya\n",
    "menarik (misal skewed, bimodal, ada outlier, ada nilai yang mendominasi, kategorinya\n",
    "terlalu banyak, dsb). Jelaskan juga apa yang harus di-follow up saat data pre-processing."
   ]
  },
  {
   "cell_type": "markdown",
   "metadata": {
    "id": "1h2S6OVTVUE5"
   },
   "source": [
    "#Multivariate Analysis"
   ]
  },
  {
   "cell_type": "markdown",
   "metadata": {
    "id": "nusLb-3yVY3k"
   },
   "source": [
    "Lakukan multivariate analysis (seperti correlation heatmap dan category plots, sesuai yang\n",
    "diajarkan di kelas). Tuliskan hasil observasinya, seperti:\n",
    "* Bagaimana korelasi antara masing-masing feature dan label. Kira-kira feature mana\n",
    "saja yang paling relevan dan harus dipertahankan?\n",
    "* Bagaimana korelasi antar-feature, apakah ada pola yang menarik? Apa yang perlu\n",
    "dilakukan terhadap feature itu?"
   ]
  },
  {
   "cell_type": "markdown",
   "metadata": {
    "id": "zB6kO-hbV8iI"
   },
   "source": [
    "##Korelasi Antara Feature & Target"
   ]
  },
  {
   "cell_type": "markdown",
   "metadata": {
    "id": "UX0uAFDHWEbq"
   },
   "source": [
    "##Korelasi Antara Feature"
   ]
  },
  {
   "cell_type": "markdown",
   "metadata": {
    "id": "zmZL_Tc0CQOi"
   },
   "source": [
    "#Data Cleansing (Lakukan analisis terlebih dahulu)"
   ]
  },
  {
   "cell_type": "markdown",
   "metadata": {
    "id": "ConLZndSiXIF"
   },
   "source": [
    "##Dataset Reviews"
   ]
  },
  {
   "cell_type": "code",
   "execution_count": 73,
   "metadata": {
    "id": "sW5R0IM-UtRI"
   },
   "outputs": [],
   "source": [
    "# Menghapus kolom kosong pada reviews\n",
    "reviews = reviews.dropna(axis = 0, subset = ['comments'], how = 'any')"
   ]
  },
  {
   "cell_type": "code",
   "execution_count": 74,
   "metadata": {
    "id": "75EQb0qXUxPV"
   },
   "outputs": [
    {
     "data": {
      "text/plain": [
       "listing_id       0\n",
       "id               0\n",
       "date             0\n",
       "reviewer_id      0\n",
       "reviewer_name    0\n",
       "comments         0\n",
       "dtype: int64"
      ]
     },
     "execution_count": 74,
     "metadata": {},
     "output_type": "execute_result"
    }
   ],
   "source": [
    "# Memeriksa data kosong pada reviews setelah dihapus\n",
    "reviews.isnull().sum()"
   ]
  },
  {
   "cell_type": "markdown",
   "metadata": {
    "id": "cz3gWxVIj3pC"
   },
   "source": [
    "* Dataset reviews hanya memiliki data kosong dan tidak memiliki data yang duplikat, jadi cukup hanya dengan menghapus data yang kosong.\n",
    "* Tidak banyak yang perlu diubah dari kolom reviews karena sudah sesuai."
   ]
  },
  {
   "cell_type": "markdown",
   "metadata": {
    "id": "2c2gdjSekZgX"
   },
   "source": [
    "##Dataset Calendar"
   ]
  },
  {
   "cell_type": "code",
   "execution_count": 75,
   "metadata": {
    "id": "czIPNzUTUz0b"
   },
   "outputs": [],
   "source": [
    "# Menghapus kolom kosong pada calendar\n",
    "calendar = calendar.dropna(axis = 0, subset = ['price'], how = 'any')"
   ]
  },
  {
   "cell_type": "code",
   "execution_count": 76,
   "metadata": {
    "id": "UuDMSJX1U1UK"
   },
   "outputs": [
    {
     "data": {
      "text/plain": [
       "listing_id    0\n",
       "date          0\n",
       "available     0\n",
       "price         0\n",
       "dtype: int64"
      ]
     },
     "execution_count": 76,
     "metadata": {},
     "output_type": "execute_result"
    }
   ],
   "source": [
    "# Memeriksa data kosong pada calendar setelah dihapus\n",
    "calendar.isnull().sum()"
   ]
  },
  {
   "cell_type": "code",
   "execution_count": 77,
   "metadata": {
    "id": "H5oGJAHZU3aG"
   },
   "outputs": [],
   "source": [
    "# Mengubah data type calendar menjadi datetime\n",
    "calendar['date'] = pd.to_datetime(calendar['date'])\n",
    "\n",
    "# Memisahkan kolom date menjadi day, month, dan year\n",
    "calendar['day'] = calendar.date.dt.day\n",
    "calendar['month'] = calendar.date.dt.month\n",
    "calendar['year'] = calendar.date.dt.year\n",
    "\n",
    "# Menghapus lambang dolar pada price\n",
    "calendar['price'] = pd.to_numeric(calendar['price'].apply(lambda x: str(x).replace('$', '').replace(',', '')), errors='coerce')\n",
    "\n",
    "# Mengubah available menjadi tipe data boolean\n",
    "calendar['available'] = calendar['available'].map({'t': True, 'f': False})"
   ]
  },
  {
   "cell_type": "code",
   "execution_count": 78,
   "metadata": {
    "id": "mqF2dhVYU5tb"
   },
   "outputs": [
    {
     "data": {
      "text/html": [
       "<div>\n",
       "<style scoped>\n",
       "    .dataframe tbody tr th:only-of-type {\n",
       "        vertical-align: middle;\n",
       "    }\n",
       "\n",
       "    .dataframe tbody tr th {\n",
       "        vertical-align: top;\n",
       "    }\n",
       "\n",
       "    .dataframe thead th {\n",
       "        text-align: right;\n",
       "    }\n",
       "</style>\n",
       "<table border=\"1\" class=\"dataframe\">\n",
       "  <thead>\n",
       "    <tr style=\"text-align: right;\">\n",
       "      <th></th>\n",
       "      <th>listing_id</th>\n",
       "      <th>date</th>\n",
       "      <th>available</th>\n",
       "      <th>price</th>\n",
       "      <th>day</th>\n",
       "      <th>month</th>\n",
       "      <th>year</th>\n",
       "    </tr>\n",
       "  </thead>\n",
       "  <tbody>\n",
       "    <tr>\n",
       "      <th>0</th>\n",
       "      <td>241032</td>\n",
       "      <td>2016-01-04</td>\n",
       "      <td>True</td>\n",
       "      <td>85.0</td>\n",
       "      <td>4</td>\n",
       "      <td>1</td>\n",
       "      <td>2016</td>\n",
       "    </tr>\n",
       "    <tr>\n",
       "      <th>1</th>\n",
       "      <td>241032</td>\n",
       "      <td>2016-01-05</td>\n",
       "      <td>True</td>\n",
       "      <td>85.0</td>\n",
       "      <td>5</td>\n",
       "      <td>1</td>\n",
       "      <td>2016</td>\n",
       "    </tr>\n",
       "    <tr>\n",
       "      <th>9</th>\n",
       "      <td>241032</td>\n",
       "      <td>2016-01-13</td>\n",
       "      <td>True</td>\n",
       "      <td>85.0</td>\n",
       "      <td>13</td>\n",
       "      <td>1</td>\n",
       "      <td>2016</td>\n",
       "    </tr>\n",
       "    <tr>\n",
       "      <th>10</th>\n",
       "      <td>241032</td>\n",
       "      <td>2016-01-14</td>\n",
       "      <td>True</td>\n",
       "      <td>85.0</td>\n",
       "      <td>14</td>\n",
       "      <td>1</td>\n",
       "      <td>2016</td>\n",
       "    </tr>\n",
       "    <tr>\n",
       "      <th>14</th>\n",
       "      <td>241032</td>\n",
       "      <td>2016-01-18</td>\n",
       "      <td>True</td>\n",
       "      <td>85.0</td>\n",
       "      <td>18</td>\n",
       "      <td>1</td>\n",
       "      <td>2016</td>\n",
       "    </tr>\n",
       "  </tbody>\n",
       "</table>\n",
       "</div>"
      ],
      "text/plain": [
       "   listing_id       date  available  price  day  month  year\n",
       "0      241032 2016-01-04       True   85.0    4      1  2016\n",
       "1      241032 2016-01-05       True   85.0    5      1  2016\n",
       "9      241032 2016-01-13       True   85.0   13      1  2016\n",
       "10     241032 2016-01-14       True   85.0   14      1  2016\n",
       "14     241032 2016-01-18       True   85.0   18      1  2016"
      ]
     },
     "execution_count": 78,
     "metadata": {},
     "output_type": "execute_result"
    }
   ],
   "source": [
    "# Melihat dataset calendar setelah diproses\n",
    "calendar.head()"
   ]
  },
  {
   "cell_type": "markdown",
   "metadata": {
    "id": "68i95zqknyY6"
   },
   "source": [
    "* Dataset calendar memiliki data kosong pada kolom price dan banyak sekali baris yang kosong, sehingga perlu dihapus untuk kelancaran analisis.\n",
    "* Kolom price memiliki simbol \"$\" dan koma (\",\") sehingga tidak cocok sebagai object. Lalu konversi kolom price ke tipe numerik setelah membersihkan simbol tersebut.\n",
    "* Kolom date sebaiknya memiliki tipe data datetime daripada object. Setelah diubah pisahkan day, month, dan year untuk mendapatkan insight yang lebih luas.\n",
    "* Kolom available masih berisi nilai t/f (true/false) dalam bentuk string, dikonversi ke tipe boolean."
   ]
  },
  {
   "cell_type": "markdown",
   "metadata": {
    "id": "J_6nMRwZos7M"
   },
   "source": [
    "##Dataset Listings"
   ]
  },
  {
   "cell_type": "code",
   "execution_count": 79,
   "metadata": {
    "id": "bTLq3CDzU9B_"
   },
   "outputs": [],
   "source": [
    "# Mengganti dan membersihkan datatype yang kurang sesuai\n",
    "listings['price'] = pd.to_numeric(listings['price'].apply(lambda x: str(x).replace('$', '').replace(',', '')), errors='coerce')\n",
    "listings['monthly_price'] = pd.to_numeric(listings['monthly_price'].apply(lambda x: str(x).replace('$', '').replace(',', '')), errors='coerce')\n",
    "listings['weekly_price'] = pd.to_numeric(listings['weekly_price'].apply(lambda x: str(x).replace('$', '').replace(',', '')), errors='coerce')\n",
    "listings['cleaning_fee'] = pd.to_numeric(listings['cleaning_fee'].apply(lambda x: str(x).replace('$', '').replace(',', '')), errors='coerce')\n",
    "listings['security_deposit'] = pd.to_numeric(listings['security_deposit'].apply(lambda x: str(x).replace('$', '').replace(',', '')), errors='coerce')\n",
    "listings['extra_people'] = pd.to_numeric(listings['extra_people'].apply(lambda x: str(x).replace('$', '').replace(',', '')), errors='coerce')"
   ]
  },
  {
   "cell_type": "markdown",
   "metadata": {
    "id": "aDTCEJ7P5QjN"
   },
   "source": [
    "Menghapus lambang dolar pada kolom yang memiliki lambang dolar dan mengubahnya menjadi numerik untuk memudahkan analisis dan visualisasi"
   ]
  },
  {
   "cell_type": "code",
   "execution_count": 80,
   "metadata": {
    "id": "iXYWyHfwU-ka"
   },
   "outputs": [],
   "source": [
    "# Mengisi nilai kosong untuk kolom kategori\n",
    "listings['summary'] = listings['summary'].fillna(\"Tidak tersedia\")\n",
    "listings['space'] = listings['space'].fillna(\"Tidak tersedia\")\n",
    "listings['neighborhood_overview'] = listings['neighborhood_overview'].fillna(\"Tidak tersedia\")\n",
    "listings['notes'] = listings['notes'].fillna(\"Tidak tersedia\")\n",
    "listings['transit'] = listings['transit'].fillna(\"Tidak tersedia\")"
   ]
  },
  {
   "cell_type": "markdown",
   "metadata": {
    "id": "WCt1AgPA5gZC"
   },
   "source": [
    "Mengisi kolom kategorik yang kosong menjadi \"Tidak tersedia\""
   ]
  },
  {
   "cell_type": "code",
   "execution_count": 81,
   "metadata": {
    "id": "2PdRKfdgVAb6"
   },
   "outputs": [],
   "source": [
    "# Mengisi nilai kosong untuk kolom numerik\n",
    "listings['bathrooms'] = listings['bathrooms'].fillna(listings['bathrooms'].median())\n",
    "listings['bedrooms'] = listings['bedrooms'].fillna(listings['bedrooms'].median())\n",
    "listings['review_scores_rating'] = listings['review_scores_rating'].fillna(listings['review_scores_rating'].median())\n",
    "listings['reviews_per_month'] = listings['reviews_per_month'].fillna(listings['reviews_per_month'].mean())\n",
    "listings['square_feet'] = listings['square_feet'].fillna(0)\n",
    "listings['security_deposit'] = listings['security_deposit'].fillna(0)\n",
    "listings['cleaning_fee'] = listings['cleaning_fee'].fillna(0)"
   ]
  },
  {
   "cell_type": "markdown",
   "metadata": {
    "id": "paQ0a7D35u2x"
   },
   "source": [
    "Mengisi kolom numerik\n",
    "* median digunakan untuk kolom yang mempunyai nilai outlier\n",
    "* mean digunakan untuk kolom yang memiliki distribusi tidak terlalu miring\n",
    "* 0 digunakan untuk kolom yang masuk akal diisi dengan data kosong/nol"
   ]
  },
  {
   "cell_type": "code",
   "execution_count": 82,
   "metadata": {
    "id": "OYTwp5K9VCtc"
   },
   "outputs": [],
   "source": [
    "# Mengisi kolom URL dengan default\n",
    "listings[['thumbnail_url', 'medium_url', 'xl_picture_url']] = listings[['thumbnail_url', 'medium_url', 'xl_picture_url']].fillna(\"No Image\")"
   ]
  },
  {
   "cell_type": "markdown",
   "metadata": {
    "id": "GKC__peM-7QE"
   },
   "source": [
    "Jika nilai kosong, isi dengan string \"No Image\"\n"
   ]
  },
  {
   "cell_type": "code",
   "execution_count": 83,
   "metadata": {
    "id": "8axrStwTVEIQ"
   },
   "outputs": [],
   "source": [
    "# Mengubah typedata rate menjadi numerik\n",
    "listings['host_response_rate'] = listings['host_response_rate'].str.rstrip('%').astype(float)\n",
    "listings['host_acceptance_rate'] = listings['host_acceptance_rate'].str.rstrip('%').astype(float)"
   ]
  },
  {
   "cell_type": "markdown",
   "metadata": {
    "id": "x7HsNwPs-6s4"
   },
   "source": [
    "Karena ada simbol % sebaiknya diubah menjadi numerik, agar mendapat pengolahan lebih lanjut"
   ]
  },
  {
   "cell_type": "code",
   "execution_count": 84,
   "metadata": {
    "id": "OXxDO9vZVLi8"
   },
   "outputs": [],
   "source": [
    "# Menghapus kolom yang terlalu banyak memiliki nilai kosong\n",
    "listings = listings.drop(columns=['license'])"
   ]
  },
  {
   "cell_type": "markdown",
   "metadata": {
    "id": "Xpw3n9On_ZuC"
   },
   "source": [
    "Masih banyak kolom yang memiliki nilai kosong jadi sebaiknya hanya mengambil beberapa kolom saja dari listings yang sesuai dengan goal dan objective yang ingin dicapai."
   ]
  },
  {
   "cell_type": "markdown",
   "metadata": {},
   "source": [
    "# Data Integration\n",
    "Menggabungkan Dataset Listings, Calendar, dan Reviews yang telah dibersihkan untuk analisis holistik"
   ]
  },
  {
   "cell_type": "code",
   "execution_count": 88,
   "metadata": {},
   "outputs": [
    {
     "data": {
      "text/html": [
       "<div>\n",
       "<style scoped>\n",
       "    .dataframe tbody tr th:only-of-type {\n",
       "        vertical-align: middle;\n",
       "    }\n",
       "\n",
       "    .dataframe tbody tr th {\n",
       "        vertical-align: top;\n",
       "    }\n",
       "\n",
       "    .dataframe thead th {\n",
       "        text-align: right;\n",
       "    }\n",
       "</style>\n",
       "<table border=\"1\" class=\"dataframe\">\n",
       "  <thead>\n",
       "    <tr style=\"text-align: right;\">\n",
       "      <th></th>\n",
       "      <th>listing_id</th>\n",
       "      <th>id</th>\n",
       "      <th>date</th>\n",
       "      <th>reviewer_id</th>\n",
       "      <th>reviewer_name</th>\n",
       "      <th>comments</th>\n",
       "      <th>listing_url</th>\n",
       "      <th>scrape_id</th>\n",
       "      <th>last_scraped</th>\n",
       "      <th>name</th>\n",
       "      <th>...</th>\n",
       "      <th>review_scores_location</th>\n",
       "      <th>review_scores_value</th>\n",
       "      <th>requires_license</th>\n",
       "      <th>jurisdiction_names</th>\n",
       "      <th>instant_bookable</th>\n",
       "      <th>cancellation_policy</th>\n",
       "      <th>require_guest_profile_picture</th>\n",
       "      <th>require_guest_phone_verification</th>\n",
       "      <th>calculated_host_listings_count</th>\n",
       "      <th>reviews_per_month</th>\n",
       "    </tr>\n",
       "  </thead>\n",
       "  <tbody>\n",
       "    <tr>\n",
       "      <th>0</th>\n",
       "      <td>7202016</td>\n",
       "      <td>38917982</td>\n",
       "      <td>2015-07-19</td>\n",
       "      <td>28943674</td>\n",
       "      <td>Bianca</td>\n",
       "      <td>Cute and cozy place. Perfect location to every...</td>\n",
       "      <td>https://www.airbnb.com/rooms/7202016</td>\n",
       "      <td>20160104002432</td>\n",
       "      <td>2016-01-04</td>\n",
       "      <td>Cute Mid Century near Downtown</td>\n",
       "      <td>...</td>\n",
       "      <td>10.0</td>\n",
       "      <td>10.0</td>\n",
       "      <td>f</td>\n",
       "      <td>WASHINGTON</td>\n",
       "      <td>t</td>\n",
       "      <td>flexible</td>\n",
       "      <td>f</td>\n",
       "      <td>f</td>\n",
       "      <td>1</td>\n",
       "      <td>2.82</td>\n",
       "    </tr>\n",
       "    <tr>\n",
       "      <th>1</th>\n",
       "      <td>7202016</td>\n",
       "      <td>39087409</td>\n",
       "      <td>2015-07-20</td>\n",
       "      <td>32440555</td>\n",
       "      <td>Frank</td>\n",
       "      <td>Kelly has a great room in a very central locat...</td>\n",
       "      <td>https://www.airbnb.com/rooms/7202016</td>\n",
       "      <td>20160104002432</td>\n",
       "      <td>2016-01-04</td>\n",
       "      <td>Cute Mid Century near Downtown</td>\n",
       "      <td>...</td>\n",
       "      <td>10.0</td>\n",
       "      <td>10.0</td>\n",
       "      <td>f</td>\n",
       "      <td>WASHINGTON</td>\n",
       "      <td>t</td>\n",
       "      <td>flexible</td>\n",
       "      <td>f</td>\n",
       "      <td>f</td>\n",
       "      <td>1</td>\n",
       "      <td>2.82</td>\n",
       "    </tr>\n",
       "    <tr>\n",
       "      <th>2</th>\n",
       "      <td>7202016</td>\n",
       "      <td>39820030</td>\n",
       "      <td>2015-07-26</td>\n",
       "      <td>37722850</td>\n",
       "      <td>Ian</td>\n",
       "      <td>Very spacious apartment, and in a great neighb...</td>\n",
       "      <td>https://www.airbnb.com/rooms/7202016</td>\n",
       "      <td>20160104002432</td>\n",
       "      <td>2016-01-04</td>\n",
       "      <td>Cute Mid Century near Downtown</td>\n",
       "      <td>...</td>\n",
       "      <td>10.0</td>\n",
       "      <td>10.0</td>\n",
       "      <td>f</td>\n",
       "      <td>WASHINGTON</td>\n",
       "      <td>t</td>\n",
       "      <td>flexible</td>\n",
       "      <td>f</td>\n",
       "      <td>f</td>\n",
       "      <td>1</td>\n",
       "      <td>2.82</td>\n",
       "    </tr>\n",
       "    <tr>\n",
       "      <th>3</th>\n",
       "      <td>7202016</td>\n",
       "      <td>40813543</td>\n",
       "      <td>2015-08-02</td>\n",
       "      <td>33671805</td>\n",
       "      <td>George</td>\n",
       "      <td>Close to Seattle Center and all it has to offe...</td>\n",
       "      <td>https://www.airbnb.com/rooms/7202016</td>\n",
       "      <td>20160104002432</td>\n",
       "      <td>2016-01-04</td>\n",
       "      <td>Cute Mid Century near Downtown</td>\n",
       "      <td>...</td>\n",
       "      <td>10.0</td>\n",
       "      <td>10.0</td>\n",
       "      <td>f</td>\n",
       "      <td>WASHINGTON</td>\n",
       "      <td>t</td>\n",
       "      <td>flexible</td>\n",
       "      <td>f</td>\n",
       "      <td>f</td>\n",
       "      <td>1</td>\n",
       "      <td>2.82</td>\n",
       "    </tr>\n",
       "    <tr>\n",
       "      <th>4</th>\n",
       "      <td>7202016</td>\n",
       "      <td>41986501</td>\n",
       "      <td>2015-08-10</td>\n",
       "      <td>34959538</td>\n",
       "      <td>Ming</td>\n",
       "      <td>Kelly was a great host and very accommodating ...</td>\n",
       "      <td>https://www.airbnb.com/rooms/7202016</td>\n",
       "      <td>20160104002432</td>\n",
       "      <td>2016-01-04</td>\n",
       "      <td>Cute Mid Century near Downtown</td>\n",
       "      <td>...</td>\n",
       "      <td>10.0</td>\n",
       "      <td>10.0</td>\n",
       "      <td>f</td>\n",
       "      <td>WASHINGTON</td>\n",
       "      <td>t</td>\n",
       "      <td>flexible</td>\n",
       "      <td>f</td>\n",
       "      <td>f</td>\n",
       "      <td>1</td>\n",
       "      <td>2.82</td>\n",
       "    </tr>\n",
       "    <tr>\n",
       "      <th>...</th>\n",
       "      <td>...</td>\n",
       "      <td>...</td>\n",
       "      <td>...</td>\n",
       "      <td>...</td>\n",
       "      <td>...</td>\n",
       "      <td>...</td>\n",
       "      <td>...</td>\n",
       "      <td>...</td>\n",
       "      <td>...</td>\n",
       "      <td>...</td>\n",
       "      <td>...</td>\n",
       "      <td>...</td>\n",
       "      <td>...</td>\n",
       "      <td>...</td>\n",
       "      <td>...</td>\n",
       "      <td>...</td>\n",
       "      <td>...</td>\n",
       "      <td>...</td>\n",
       "      <td>...</td>\n",
       "      <td>...</td>\n",
       "      <td>...</td>\n",
       "    </tr>\n",
       "    <tr>\n",
       "      <th>84826</th>\n",
       "      <td>3624990</td>\n",
       "      <td>50436321</td>\n",
       "      <td>2015-10-12</td>\n",
       "      <td>37419458</td>\n",
       "      <td>Ryan</td>\n",
       "      <td>The description and pictures of the apartment ...</td>\n",
       "      <td>https://www.airbnb.com/rooms/3624990</td>\n",
       "      <td>20160104002432</td>\n",
       "      <td>2016-01-04</td>\n",
       "      <td>Large Downtown 2 Bedroom Condo</td>\n",
       "      <td>...</td>\n",
       "      <td>9.0</td>\n",
       "      <td>9.0</td>\n",
       "      <td>f</td>\n",
       "      <td>WASHINGTON</td>\n",
       "      <td>t</td>\n",
       "      <td>moderate</td>\n",
       "      <td>f</td>\n",
       "      <td>f</td>\n",
       "      <td>9</td>\n",
       "      <td>1.15</td>\n",
       "    </tr>\n",
       "    <tr>\n",
       "      <th>84827</th>\n",
       "      <td>3624990</td>\n",
       "      <td>51024875</td>\n",
       "      <td>2015-10-17</td>\n",
       "      <td>6933252</td>\n",
       "      <td>Linda</td>\n",
       "      <td>We had an excellent stay. It was clean and com...</td>\n",
       "      <td>https://www.airbnb.com/rooms/3624990</td>\n",
       "      <td>20160104002432</td>\n",
       "      <td>2016-01-04</td>\n",
       "      <td>Large Downtown 2 Bedroom Condo</td>\n",
       "      <td>...</td>\n",
       "      <td>9.0</td>\n",
       "      <td>9.0</td>\n",
       "      <td>f</td>\n",
       "      <td>WASHINGTON</td>\n",
       "      <td>t</td>\n",
       "      <td>moderate</td>\n",
       "      <td>f</td>\n",
       "      <td>f</td>\n",
       "      <td>9</td>\n",
       "      <td>1.15</td>\n",
       "    </tr>\n",
       "    <tr>\n",
       "      <th>84828</th>\n",
       "      <td>3624990</td>\n",
       "      <td>51511988</td>\n",
       "      <td>2015-10-20</td>\n",
       "      <td>19543701</td>\n",
       "      <td>Jaime</td>\n",
       "      <td>Gran ubicación, cerca de todo lo atractivo del...</td>\n",
       "      <td>https://www.airbnb.com/rooms/3624990</td>\n",
       "      <td>20160104002432</td>\n",
       "      <td>2016-01-04</td>\n",
       "      <td>Large Downtown 2 Bedroom Condo</td>\n",
       "      <td>...</td>\n",
       "      <td>9.0</td>\n",
       "      <td>9.0</td>\n",
       "      <td>f</td>\n",
       "      <td>WASHINGTON</td>\n",
       "      <td>t</td>\n",
       "      <td>moderate</td>\n",
       "      <td>f</td>\n",
       "      <td>f</td>\n",
       "      <td>9</td>\n",
       "      <td>1.15</td>\n",
       "    </tr>\n",
       "    <tr>\n",
       "      <th>84829</th>\n",
       "      <td>3624990</td>\n",
       "      <td>52814482</td>\n",
       "      <td>2015-11-02</td>\n",
       "      <td>24445024</td>\n",
       "      <td>Jørgen</td>\n",
       "      <td>Very good apartement, clean and well sized. Si...</td>\n",
       "      <td>https://www.airbnb.com/rooms/3624990</td>\n",
       "      <td>20160104002432</td>\n",
       "      <td>2016-01-04</td>\n",
       "      <td>Large Downtown 2 Bedroom Condo</td>\n",
       "      <td>...</td>\n",
       "      <td>9.0</td>\n",
       "      <td>9.0</td>\n",
       "      <td>f</td>\n",
       "      <td>WASHINGTON</td>\n",
       "      <td>t</td>\n",
       "      <td>moderate</td>\n",
       "      <td>f</td>\n",
       "      <td>f</td>\n",
       "      <td>9</td>\n",
       "      <td>1.15</td>\n",
       "    </tr>\n",
       "    <tr>\n",
       "      <th>84830</th>\n",
       "      <td>9727246</td>\n",
       "      <td>56429621</td>\n",
       "      <td>2015-12-13</td>\n",
       "      <td>30860360</td>\n",
       "      <td>Stephanie</td>\n",
       "      <td>Breanne was a great host. Check in was easy, s...</td>\n",
       "      <td>https://www.airbnb.com/rooms/9727246</td>\n",
       "      <td>20160104002432</td>\n",
       "      <td>2016-01-04</td>\n",
       "      <td>Sunny, clean Capitol Hill studio</td>\n",
       "      <td>...</td>\n",
       "      <td>10.0</td>\n",
       "      <td>10.0</td>\n",
       "      <td>f</td>\n",
       "      <td>WASHINGTON</td>\n",
       "      <td>f</td>\n",
       "      <td>moderate</td>\n",
       "      <td>f</td>\n",
       "      <td>f</td>\n",
       "      <td>1</td>\n",
       "      <td>1.00</td>\n",
       "    </tr>\n",
       "  </tbody>\n",
       "</table>\n",
       "<p>84831 rows × 96 columns</p>\n",
       "</div>"
      ],
      "text/plain": [
       "      listing_id        id        date  reviewer_id reviewer_name  \\\n",
       "0        7202016  38917982  2015-07-19     28943674        Bianca   \n",
       "1        7202016  39087409  2015-07-20     32440555         Frank   \n",
       "2        7202016  39820030  2015-07-26     37722850           Ian   \n",
       "3        7202016  40813543  2015-08-02     33671805        George   \n",
       "4        7202016  41986501  2015-08-10     34959538          Ming   \n",
       "...          ...       ...         ...          ...           ...   \n",
       "84826    3624990  50436321  2015-10-12     37419458          Ryan   \n",
       "84827    3624990  51024875  2015-10-17      6933252         Linda   \n",
       "84828    3624990  51511988  2015-10-20     19543701         Jaime   \n",
       "84829    3624990  52814482  2015-11-02     24445024        Jørgen   \n",
       "84830    9727246  56429621  2015-12-13     30860360     Stephanie   \n",
       "\n",
       "                                                comments  \\\n",
       "0      Cute and cozy place. Perfect location to every...   \n",
       "1      Kelly has a great room in a very central locat...   \n",
       "2      Very spacious apartment, and in a great neighb...   \n",
       "3      Close to Seattle Center and all it has to offe...   \n",
       "4      Kelly was a great host and very accommodating ...   \n",
       "...                                                  ...   \n",
       "84826  The description and pictures of the apartment ...   \n",
       "84827  We had an excellent stay. It was clean and com...   \n",
       "84828  Gran ubicación, cerca de todo lo atractivo del...   \n",
       "84829  Very good apartement, clean and well sized. Si...   \n",
       "84830  Breanne was a great host. Check in was easy, s...   \n",
       "\n",
       "                                listing_url       scrape_id last_scraped  \\\n",
       "0      https://www.airbnb.com/rooms/7202016  20160104002432   2016-01-04   \n",
       "1      https://www.airbnb.com/rooms/7202016  20160104002432   2016-01-04   \n",
       "2      https://www.airbnb.com/rooms/7202016  20160104002432   2016-01-04   \n",
       "3      https://www.airbnb.com/rooms/7202016  20160104002432   2016-01-04   \n",
       "4      https://www.airbnb.com/rooms/7202016  20160104002432   2016-01-04   \n",
       "...                                     ...             ...          ...   \n",
       "84826  https://www.airbnb.com/rooms/3624990  20160104002432   2016-01-04   \n",
       "84827  https://www.airbnb.com/rooms/3624990  20160104002432   2016-01-04   \n",
       "84828  https://www.airbnb.com/rooms/3624990  20160104002432   2016-01-04   \n",
       "84829  https://www.airbnb.com/rooms/3624990  20160104002432   2016-01-04   \n",
       "84830  https://www.airbnb.com/rooms/9727246  20160104002432   2016-01-04   \n",
       "\n",
       "                                   name  ... review_scores_location  \\\n",
       "0        Cute Mid Century near Downtown  ...                   10.0   \n",
       "1        Cute Mid Century near Downtown  ...                   10.0   \n",
       "2        Cute Mid Century near Downtown  ...                   10.0   \n",
       "3        Cute Mid Century near Downtown  ...                   10.0   \n",
       "4        Cute Mid Century near Downtown  ...                   10.0   \n",
       "...                                 ...  ...                    ...   \n",
       "84826    Large Downtown 2 Bedroom Condo  ...                    9.0   \n",
       "84827    Large Downtown 2 Bedroom Condo  ...                    9.0   \n",
       "84828    Large Downtown 2 Bedroom Condo  ...                    9.0   \n",
       "84829    Large Downtown 2 Bedroom Condo  ...                    9.0   \n",
       "84830  Sunny, clean Capitol Hill studio  ...                   10.0   \n",
       "\n",
       "      review_scores_value requires_license jurisdiction_names  \\\n",
       "0                    10.0                f         WASHINGTON   \n",
       "1                    10.0                f         WASHINGTON   \n",
       "2                    10.0                f         WASHINGTON   \n",
       "3                    10.0                f         WASHINGTON   \n",
       "4                    10.0                f         WASHINGTON   \n",
       "...                   ...              ...                ...   \n",
       "84826                 9.0                f         WASHINGTON   \n",
       "84827                 9.0                f         WASHINGTON   \n",
       "84828                 9.0                f         WASHINGTON   \n",
       "84829                 9.0                f         WASHINGTON   \n",
       "84830                10.0                f         WASHINGTON   \n",
       "\n",
       "      instant_bookable cancellation_policy require_guest_profile_picture  \\\n",
       "0                    t            flexible                             f   \n",
       "1                    t            flexible                             f   \n",
       "2                    t            flexible                             f   \n",
       "3                    t            flexible                             f   \n",
       "4                    t            flexible                             f   \n",
       "...                ...                 ...                           ...   \n",
       "84826                t            moderate                             f   \n",
       "84827                t            moderate                             f   \n",
       "84828                t            moderate                             f   \n",
       "84829                t            moderate                             f   \n",
       "84830                f            moderate                             f   \n",
       "\n",
       "      require_guest_phone_verification calculated_host_listings_count  \\\n",
       "0                                    f                              1   \n",
       "1                                    f                              1   \n",
       "2                                    f                              1   \n",
       "3                                    f                              1   \n",
       "4                                    f                              1   \n",
       "...                                ...                            ...   \n",
       "84826                                f                              9   \n",
       "84827                                f                              9   \n",
       "84828                                f                              9   \n",
       "84829                                f                              9   \n",
       "84830                                f                              1   \n",
       "\n",
       "      reviews_per_month  \n",
       "0                  2.82  \n",
       "1                  2.82  \n",
       "2                  2.82  \n",
       "3                  2.82  \n",
       "4                  2.82  \n",
       "...                 ...  \n",
       "84826              1.15  \n",
       "84827              1.15  \n",
       "84828              1.15  \n",
       "84829              1.15  \n",
       "84830              1.00  \n",
       "\n",
       "[84831 rows x 96 columns]"
      ]
     },
     "execution_count": 88,
     "metadata": {},
     "output_type": "execute_result"
    }
   ],
   "source": [
    "dfs = [reviews, calendar, listings]\n",
    "merged_df = dfs[0]  \n",
    "for df in dfs[1:]:\n",
    "    merged_dataset = pd.merge(merged_df, df, on='listing_id', how='inner')\n",
    "merged_dataset\n"
   ]
  },
  {
   "cell_type": "markdown",
   "metadata": {},
   "source": [
    "# Feature Engineering atau Extraction"
   ]
  },
  {
   "cell_type": "markdown",
   "metadata": {},
   "source": [
    "Feature Selection (Number only, dll)\n",
    "Extraction (Datetime, Date, Time, dll)\n",
    "Agregasi"
   ]
  },
  {
   "cell_type": "markdown",
   "metadata": {},
   "source": [
    "# Feature Transformation\n",
    "Rescaling (Standarization atau Normalization)"
   ]
  },
  {
   "cell_type": "markdown",
   "metadata": {},
   "source": [
    "# Feature Encoding\n",
    "Label Encoding / One-hot Encoding"
   ]
  },
  {
   "cell_type": "markdown",
   "metadata": {},
   "source": [
    "# Resampling (Optional)\n",
    "Class Imbalance"
   ]
  },
  {
   "cell_type": "code",
   "execution_count": null,
   "metadata": {},
   "outputs": [],
   "source": []
  }
 ],
 "metadata": {
  "colab": {
   "provenance": [],
   "toc_visible": true
  },
  "kernelspec": {
   "display_name": "Python 3",
   "name": "python3"
  },
  "language_info": {
   "codemirror_mode": {
    "name": "ipython",
    "version": 3
   },
   "file_extension": ".py",
   "mimetype": "text/x-python",
   "name": "python",
   "nbconvert_exporter": "python",
   "pygments_lexer": "ipython3",
   "version": "3.12.7"
  }
 },
 "nbformat": 4,
 "nbformat_minor": 0
}
